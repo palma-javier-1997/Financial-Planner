{
 "cells": [
  {
   "cell_type": "markdown",
   "id": "74519828-3884-4324-a892-a8c0f3e9caff",
   "metadata": {},
   "source": [
    "# Financial Planning"
   ]
  },
  {
   "cell_type": "code",
   "execution_count": 11,
   "id": "3648fbd1-1a8a-4a8d-85ed-60c0b6826b72",
   "metadata": {},
   "outputs": [],
   "source": [
    "#initial library\n",
    "import os\n",
    "import requests\n",
    "import pandas as pd\n",
    "from dotenv import load_dotenv\n",
    "import alpaca_trade_api as tradeapi\n",
    "%matplotlib inline"
   ]
  },
  {
   "cell_type": "code",
   "execution_count": 12,
   "id": "4c0d9cf4-af4a-44a7-8d57-aabb26cdcad8",
   "metadata": {},
   "outputs": [
    {
     "data": {
      "text/plain": [
       "True"
      ]
     },
     "execution_count": 12,
     "metadata": {},
     "output_type": "execute_result"
    }
   ],
   "source": [
    "# Load .env enviroment variables\n",
    "load_dotenv()"
   ]
  },
  {
   "cell_type": "code",
   "execution_count": 13,
   "id": "8d1beca4-776e-47e2-8fbd-ca2004ade1f9",
   "metadata": {},
   "outputs": [],
   "source": [
    "# Set current amount of crypto assets\n",
    "my_btc = 1.2\n",
    "my_eth = 5.3"
   ]
  },
  {
   "cell_type": "code",
   "execution_count": 14,
   "id": "ca5d1a3d-17a6-475d-af90-1dfc049d2181",
   "metadata": {},
   "outputs": [],
   "source": [
    "# Crypto API URLs\n",
    "btc_url = \"https://api.alternative.me/v2/ticker/Bitcoin/?convert=CAD\"\n",
    "eth_url = \"https://api.alternative.me/v2/ticker/Ethereum/?convert=CAD\"\n",
    "\n",
    "btc_url = btc_url + \"?format=json\"\n",
    "eth_url = eth_url + \"?format=json\""
   ]
  },
  {
   "cell_type": "code",
   "execution_count": 15,
   "id": "c2c149e9-16fc-422b-9c3b-6ed4284975c1",
   "metadata": {},
   "outputs": [],
   "source": [
    "# Fetch current BTC price\n",
    "current_btc_price = requests.get(btc_url)\n",
    "\n",
    "# Fetch current ETH price\n",
    "current_eth_price = requests.get(eth_url)"
   ]
  },
  {
   "cell_type": "code",
   "execution_count": 16,
   "id": "83279df6-bb1a-461e-a42a-42b4be37736e",
   "metadata": {},
   "outputs": [],
   "source": [
    "#get the response of current cryptos\n",
    "response_btc = current_btc_price.content\n",
    "response_eth = current_eth_price.content\n",
    "\n",
    "#format as json\n",
    "btc_json = current_btc_price.json()\n",
    "eth_json = current_eth_price.json()"
   ]
  },
  {
   "cell_type": "code",
   "execution_count": 17,
   "id": "49a06f02-5955-4580-8328-0e9e28a77aa5",
   "metadata": {},
   "outputs": [
    {
     "name": "stdout",
     "output_type": "stream",
     "text": [
      "{\n",
      "    \"data\": {\n",
      "        \"1\": {\n",
      "            \"id\": 1,\n",
      "            \"name\": \"Bitcoin\",\n",
      "            \"symbol\": \"BTC\",\n",
      "            \"website_slug\": \"bitcoin\",\n",
      "            \"rank\": 1,\n",
      "            \"circulating_supply\": 18718431,\n",
      "            \"total_supply\": 18718431,\n",
      "            \"max_supply\": 21000000,\n",
      "            \"quotes\": {\n",
      "                \"USD\": {\n",
      "                    \"price\": 38095.0,\n",
      "                    \"volume_24h\": 48995602449,\n",
      "                    \"market_cap\": 713083419373,\n",
      "                    \"percentage_change_1h\": 1.24073649999011,\n",
      "                    \"percentage_change_24h\": -1.51383676316332,\n",
      "                    \"percentage_change_7d\": -12.9864377836796,\n",
      "                    \"percent_change_1h\": 1.24073649999011,\n",
      "                    \"percent_change_24h\": -1.51383676316332,\n",
      "                    \"percent_change_7d\": -12.9864377836796\n",
      "                }\n",
      "            },\n",
      "            \"last_updated\": 1621980480\n",
      "        }\n",
      "    },\n",
      "    \"metadata\": {\n",
      "        \"timestamp\": 1621980480,\n",
      "        \"num_cryptocurrencies\": 1299,\n",
      "        \"error\": null\n",
      "    }\n",
      "}\n"
     ]
    }
   ],
   "source": [
    "#import json\n",
    "import json\n",
    "\n",
    "#output btc_json\n",
    "print(json.dumps(btc_json, indent=4))"
   ]
  },
  {
   "cell_type": "code",
   "execution_count": 18,
   "id": "09056945-f356-4aec-823a-c25edbf8399d",
   "metadata": {},
   "outputs": [
    {
     "name": "stdout",
     "output_type": "stream",
     "text": [
      "{\n",
      "    \"data\": {\n",
      "        \"1027\": {\n",
      "            \"id\": 1027,\n",
      "            \"name\": \"Ethereum\",\n",
      "            \"symbol\": \"ETH\",\n",
      "            \"website_slug\": \"ethereum\",\n",
      "            \"rank\": 2,\n",
      "            \"circulating_supply\": 116023681,\n",
      "            \"total_supply\": 116023681,\n",
      "            \"max_supply\": 0,\n",
      "            \"quotes\": {\n",
      "                \"USD\": {\n",
      "                    \"price\": 2625.73,\n",
      "                    \"volume_24h\": 108970913489,\n",
      "                    \"market_cap\": 304647182446,\n",
      "                    \"percentage_change_1h\": 2.75224787420569,\n",
      "                    \"percentage_change_24h\": -0.401853549350078,\n",
      "                    \"percentage_change_7d\": -20.1475300882457,\n",
      "                    \"percent_change_1h\": 2.75224787420569,\n",
      "                    \"percent_change_24h\": -0.401853549350078,\n",
      "                    \"percent_change_7d\": -20.1475300882457\n",
      "                }\n",
      "            },\n",
      "            \"last_updated\": 1621980600\n",
      "        }\n",
      "    },\n",
      "    \"metadata\": {\n",
      "        \"timestamp\": 1621980600,\n",
      "        \"num_cryptocurrencies\": 1299,\n",
      "        \"error\": null\n",
      "    }\n",
      "}\n"
     ]
    }
   ],
   "source": [
    "#output eth_json\n",
    "print(json.dumps(eth_json, indent=4))"
   ]
  },
  {
   "cell_type": "code",
   "execution_count": 19,
   "id": "1fe47d69-99a1-4b5e-a376-398c8f37bc4d",
   "metadata": {},
   "outputs": [
    {
     "name": "stdout",
     "output_type": "stream",
     "text": [
      "The current value of your 1.2 BTC is $38095.00\n",
      "The current value of your 5.3 ETH is $2625.73\n"
     ]
    }
   ],
   "source": [
    "# Compute current value of my crpto\n",
    "my_btc_value = btc_json['data']['1']['quotes']['USD']['price']\n",
    "my_eth_value = eth_json['data']['1027']['quotes']['USD']['price']\n",
    "# Print current crypto wallet balance\n",
    "print(f\"The current value of your {my_btc} BTC is ${my_btc_value:0.2f}\")\n",
    "print(f\"The current value of your {my_eth} ETH is ${my_eth_value:0.2f}\")"
   ]
  },
  {
   "cell_type": "code",
   "execution_count": null,
   "id": "61e810bf-ecde-4a7a-bcf5-f20a4fca755c",
   "metadata": {},
   "outputs": [],
   "source": []
  }
 ],
 "metadata": {
  "kernelspec": {
   "display_name": "Python 3",
   "language": "python",
   "name": "python3"
  },
  "language_info": {
   "codemirror_mode": {
    "name": "ipython",
    "version": 3
   },
   "file_extension": ".py",
   "mimetype": "text/x-python",
   "name": "python",
   "nbconvert_exporter": "python",
   "pygments_lexer": "ipython3",
   "version": "3.7.10"
  }
 },
 "nbformat": 4,
 "nbformat_minor": 5
}
